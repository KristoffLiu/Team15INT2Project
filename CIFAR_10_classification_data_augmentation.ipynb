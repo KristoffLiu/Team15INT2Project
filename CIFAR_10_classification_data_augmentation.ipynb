{
  "nbformat": 4,
  "nbformat_minor": 0,
  "metadata": {
    "colab": {
      "name": "CIFAR_10_classification_data_augmentation.ipynb",
      "provenance": [],
      "collapsed_sections": []
    },
    "kernelspec": {
      "name": "python388jvsc74a57bd0c6d3928791e2d544c1a040573c088eb9f90b92e7dd39c40cec1972d97b4ac563",
      "display_name": "Python 3.8.8 64-bit ('tensorflowenv': conda)"
    },
    "language_info": {
      "codemirror_mode": {
        "name": "ipython",
        "version": 3
      },
      "file_extension": ".py",
      "mimetype": "text/x-python",
      "name": "python",
      "nbconvert_exporter": "python",
      "pygments_lexer": "ipython3",
      "version": "3.8.8"
    },
    "accelerator": "GPU"
  },
  "cells": [
    {
      "cell_type": "markdown",
      "metadata": {
        "id": "GJ0wBuXCswlo"
      },
      "source": [
        "# Downloading and preparing the data"
      ]
    },
    {
      "cell_type": "code",
      "metadata": {
        "id": "nyR4qrFMswlq"
      },
      "source": [
        "import tensorflow as tf\n",
        "\n",
        "from tensorflow.keras import datasets, layers, models\n",
        "from tensorflow.keras.callbacks import EarlyStopping\n",
        "from keras.preprocessing.image import ImageDataGenerator\n",
        "import matplotlib.pyplot as plt"
      ],
      "execution_count": 1,
      "outputs": []
    },
    {
      "cell_type": "code",
      "metadata": {
        "id": "P1pRAKp0swls"
      },
      "source": [
        "(train_x, train_y), (test_x, test_y) = datasets.cifar10.load_data()"
      ],
      "execution_count": 2,
      "outputs": []
    },
    {
      "cell_type": "code",
      "metadata": {
        "id": "6cA0nUAVswlt"
      },
      "source": [
        "train_x, test_x = train_x / 255.0, test_x / 255.0 #changes pixel values between 0 and 1"
      ],
      "execution_count": 3,
      "outputs": []
    },
    {
      "cell_type": "markdown",
      "metadata": {
        "id": "Wr-igcfXswlt"
      },
      "source": [
        "# Improving the Basic Model"
      ]
    },
    {
      "cell_type": "code",
      "metadata": {
        "colab": {
          "base_uri": "https://localhost:8080/"
        },
        "id": "LnVT4on7swlu",
        "outputId": "c2f917d9-bb7c-4768-fb39-1a82d098f066"
      },
      "source": [
        "model = models.Sequential()\n",
        "model.add(layers.Conv2D(32, (3,3), padding='same', activation='relu', input_shape=(32,32,3)))#creates layers for a 2d array of pixels\n",
        "model.add(layers.Conv2D(32,(3,3), padding='same', activation='relu'))\n",
        "#model.add(layers.BatchNormalization())\n",
        "model.add(layers.MaxPooling2D((2,2))) #pooling helps detect features in an image, max pooling finds largest value\n",
        "model.add(layers.Dropout(0.3))\n",
        "\n",
        "model.add(layers.Conv2D(64,(3,3), padding='same', activation='relu'))\n",
        "model.add(layers.Conv2D(64,(3,3), padding='same', activation='relu'))\n",
        "#model.add(layers.BatchNormalization())\n",
        "model.add(layers.MaxPooling2D((2,2)))\n",
        "model.add(layers.Dropout(0.3))\n",
        "\n",
        "model.add(layers.Conv2D(128,(3,3), padding='same', activation='relu'))\n",
        "model.add(layers.Conv2D(128,(3,3), padding='same', activation='relu'))\n",
        "#model.add(layers.BatchNormalization())\n",
        "model.add(layers.MaxPooling2D((2,2)))\n",
        "model.add(layers.Dropout(0.3))\n",
        "\n",
        "model.add(layers.Flatten())\n",
        "model.add(layers.Dense(64, activation = 'relu'))#regularisation of data\n",
        "model.add(layers.BatchNormalization())\n",
        "model.add(layers.Dropout(0.5))\n",
        "model.add(layers.Dense(10, activation = 'softmax'))\n",
        "model.summary()"
      ],
      "execution_count": 4,
      "outputs": [
        {
          "output_type": "stream",
          "name": "stdout",
          "text": [
            "Model: \"sequential\"\n_________________________________________________________________\nLayer (type)                 Output Shape              Param #   \n=================================================================\nconv2d (Conv2D)              (None, 32, 32, 32)        896       \n_________________________________________________________________\nconv2d_1 (Conv2D)            (None, 32, 32, 32)        9248      \n_________________________________________________________________\nmax_pooling2d (MaxPooling2D) (None, 16, 16, 32)        0         \n_________________________________________________________________\ndropout (Dropout)            (None, 16, 16, 32)        0         \n_________________________________________________________________\nconv2d_2 (Conv2D)            (None, 16, 16, 64)        18496     \n_________________________________________________________________\nconv2d_3 (Conv2D)            (None, 16, 16, 64)        36928     \n_________________________________________________________________\nmax_pooling2d_1 (MaxPooling2 (None, 8, 8, 64)          0         \n_________________________________________________________________\ndropout_1 (Dropout)          (None, 8, 8, 64)          0         \n_________________________________________________________________\nconv2d_4 (Conv2D)            (None, 8, 8, 128)         73856     \n_________________________________________________________________\nconv2d_5 (Conv2D)            (None, 8, 8, 128)         147584    \n_________________________________________________________________\nmax_pooling2d_2 (MaxPooling2 (None, 4, 4, 128)         0         \n_________________________________________________________________\ndropout_2 (Dropout)          (None, 4, 4, 128)         0         \n_________________________________________________________________\nflatten (Flatten)            (None, 2048)              0         \n_________________________________________________________________\ndense (Dense)                (None, 64)                131136    \n_________________________________________________________________\nbatch_normalization (BatchNo (None, 64)                256       \n_________________________________________________________________\ndropout_3 (Dropout)          (None, 64)                0         \n_________________________________________________________________\ndense_1 (Dense)              (None, 10)                650       \n=================================================================\nTotal params: 419,050\nTrainable params: 418,922\nNon-trainable params: 128\n_________________________________________________________________\n"
          ]
        }
      ]
    },
    {
      "cell_type": "markdown",
      "metadata": {
        "id": "BWko6DFAswlw"
      },
      "source": [
        "# Running, training, and evaluating data"
      ]
    },
    {
      "cell_type": "code",
      "metadata": {
        "colab": {
          "base_uri": "https://localhost:8080/",
          "height": 374
        },
        "id": "XlVi9t-eswlw",
        "outputId": "797526cc-d392-4134-a92a-6d62a481373b"
      },
      "source": [
        "model.compile(optimizer='RMSprop',loss=tf.keras.losses.SparseCategoricalCrossentropy(from_logits=True),metrics=['accuracy'])\n",
        "\n",
        "datagen = ImageDataGenerator(width_shift_range=0.1, height_shift_range=0.1, horizontal_flip=True, rotation_range = 10, shear_range = 0.10)\n",
        "batch = 128\n",
        "#create iterator - training data\n",
        "it_train = datagen.flow(train_x, tf.squeeze(train_y), batch_size = batch) #batch_size default= 32\n",
        "\n",
        "early_stopping = EarlyStopping(monitor='val_loss', patience=20, restore_best_weights=True)\n",
        "\n",
        "progress = model.fit(it_train, epochs=400, callbacks=[early_stopping], validation_data=(test_x, test_y))"
      ],
      "execution_count": 5,
      "outputs": [
        {
          "output_type": "stream",
          "name": "stdout",
          "text": [
            "Epoch 1/400\n",
            "391/391 [==============================] - 27s 53ms/step - loss: 2.0409 - accuracy: 0.2424 - val_loss: 1.4836 - val_accuracy: 0.4863\n",
            "Epoch 2/400\n",
            "391/391 [==============================] - 19s 49ms/step - loss: 1.4983 - accuracy: 0.4562 - val_loss: 1.3720 - val_accuracy: 0.5365\n",
            "Epoch 3/400\n",
            "391/391 [==============================] - 21s 54ms/step - loss: 1.3131 - accuracy: 0.5307 - val_loss: 1.1030 - val_accuracy: 0.6057\n",
            "Epoch 4/400\n",
            "391/391 [==============================] - 20s 51ms/step - loss: 1.1888 - accuracy: 0.5867 - val_loss: 1.1319 - val_accuracy: 0.6242\n",
            "Epoch 5/400\n",
            "391/391 [==============================] - 19s 50ms/step - loss: 1.0952 - accuracy: 0.6151 - val_loss: 1.0461 - val_accuracy: 0.6375\n",
            "Epoch 6/400\n",
            "391/391 [==============================] - 19s 48ms/step - loss: 1.0288 - accuracy: 0.6404 - val_loss: 1.0571 - val_accuracy: 0.6447\n",
            "Epoch 7/400\n",
            "391/391 [==============================] - 19s 49ms/step - loss: 0.9842 - accuracy: 0.6602 - val_loss: 0.8222 - val_accuracy: 0.7225\n",
            "Epoch 8/400\n",
            "391/391 [==============================] - 19s 49ms/step - loss: 0.9243 - accuracy: 0.6822 - val_loss: 0.7892 - val_accuracy: 0.7319\n",
            "Epoch 9/400\n",
            "391/391 [==============================] - 19s 49ms/step - loss: 0.8811 - accuracy: 0.7000 - val_loss: 0.8690 - val_accuracy: 0.7196\n",
            "Epoch 10/400\n",
            "391/391 [==============================] - 19s 49ms/step - loss: 0.8535 - accuracy: 0.7110 - val_loss: 0.7135 - val_accuracy: 0.7532\n",
            "Epoch 11/400\n",
            "391/391 [==============================] - 19s 49ms/step - loss: 0.8210 - accuracy: 0.7208 - val_loss: 0.6626 - val_accuracy: 0.7800\n",
            "Epoch 12/400\n",
            "391/391 [==============================] - 19s 48ms/step - loss: 0.8053 - accuracy: 0.7278 - val_loss: 0.7436 - val_accuracy: 0.7482\n",
            "Epoch 13/400\n",
            "391/391 [==============================] - 19s 48ms/step - loss: 0.7821 - accuracy: 0.7374 - val_loss: 0.6875 - val_accuracy: 0.7726\n",
            "Epoch 14/400\n",
            "391/391 [==============================] - 19s 48ms/step - loss: 0.7739 - accuracy: 0.7410 - val_loss: 0.6958 - val_accuracy: 0.7680\n",
            "Epoch 15/400\n",
            "391/391 [==============================] - 19s 49ms/step - loss: 0.7452 - accuracy: 0.7500 - val_loss: 0.9021 - val_accuracy: 0.7231\n",
            "Epoch 16/400\n",
            "391/391 [==============================] - 19s 49ms/step - loss: 0.7385 - accuracy: 0.7519 - val_loss: 0.6343 - val_accuracy: 0.7907\n",
            "Epoch 17/400\n",
            "391/391 [==============================] - 19s 49ms/step - loss: 0.7205 - accuracy: 0.7608 - val_loss: 0.7006 - val_accuracy: 0.7707\n",
            "Epoch 18/400\n",
            "391/391 [==============================] - 19s 49ms/step - loss: 0.7074 - accuracy: 0.7639 - val_loss: 0.6058 - val_accuracy: 0.7974\n",
            "Epoch 19/400\n",
            "391/391 [==============================] - 19s 50ms/step - loss: 0.6902 - accuracy: 0.7677 - val_loss: 0.6519 - val_accuracy: 0.7864\n",
            "Epoch 20/400\n",
            "391/391 [==============================] - 19s 49ms/step - loss: 0.6870 - accuracy: 0.7726 - val_loss: 0.6128 - val_accuracy: 0.7994\n",
            "Epoch 21/400\n",
            "391/391 [==============================] - 19s 48ms/step - loss: 0.6715 - accuracy: 0.7776 - val_loss: 0.5472 - val_accuracy: 0.8186\n",
            "Epoch 22/400\n",
            "391/391 [==============================] - 19s 49ms/step - loss: 0.6571 - accuracy: 0.7822 - val_loss: 0.5658 - val_accuracy: 0.8178\n",
            "Epoch 23/400\n",
            "391/391 [==============================] - 20s 50ms/step - loss: 0.6569 - accuracy: 0.7802 - val_loss: 0.6399 - val_accuracy: 0.7991\n",
            "Epoch 24/400\n",
            "391/391 [==============================] - 19s 47ms/step - loss: 0.6577 - accuracy: 0.7836 - val_loss: 0.6420 - val_accuracy: 0.7924\n",
            "Epoch 25/400\n",
            "391/391 [==============================] - 18s 47ms/step - loss: 0.6329 - accuracy: 0.7926 - val_loss: 0.5715 - val_accuracy: 0.8212\n",
            "Epoch 26/400\n",
            "391/391 [==============================] - 18s 46ms/step - loss: 0.6348 - accuracy: 0.7890 - val_loss: 0.5741 - val_accuracy: 0.8125\n",
            "Epoch 27/400\n",
            "391/391 [==============================] - 18s 46ms/step - loss: 0.6227 - accuracy: 0.7928 - val_loss: 0.5145 - val_accuracy: 0.8281\n",
            "Epoch 28/400\n",
            "391/391 [==============================] - 19s 47ms/step - loss: 0.6232 - accuracy: 0.7945 - val_loss: 0.5551 - val_accuracy: 0.8156\n",
            "Epoch 29/400\n",
            "391/391 [==============================] - 18s 46ms/step - loss: 0.6198 - accuracy: 0.7999 - val_loss: 0.5527 - val_accuracy: 0.8222\n",
            "Epoch 30/400\n",
            "391/391 [==============================] - 18s 47ms/step - loss: 0.6093 - accuracy: 0.8002 - val_loss: 0.6305 - val_accuracy: 0.8026\n",
            "Epoch 31/400\n",
            "391/391 [==============================] - 18s 46ms/step - loss: 0.6055 - accuracy: 0.8029 - val_loss: 0.4882 - val_accuracy: 0.8409\n",
            "Epoch 32/400\n",
            "391/391 [==============================] - 18s 47ms/step - loss: 0.5929 - accuracy: 0.8034 - val_loss: 0.6913 - val_accuracy: 0.7872\n",
            "Epoch 33/400\n",
            "391/391 [==============================] - 18s 47ms/step - loss: 0.5941 - accuracy: 0.8043 - val_loss: 0.5154 - val_accuracy: 0.8345\n",
            "Epoch 34/400\n",
            "391/391 [==============================] - 19s 47ms/step - loss: 0.5950 - accuracy: 0.8057 - val_loss: 0.5524 - val_accuracy: 0.8217\n",
            "Epoch 35/400\n",
            "391/391 [==============================] - 19s 47ms/step - loss: 0.5798 - accuracy: 0.8063 - val_loss: 0.5407 - val_accuracy: 0.8223\n",
            "Epoch 36/400\n",
            "391/391 [==============================] - 18s 47ms/step - loss: 0.5730 - accuracy: 0.8091 - val_loss: 0.5121 - val_accuracy: 0.8362\n",
            "Epoch 37/400\n",
            "391/391 [==============================] - 18s 47ms/step - loss: 0.5630 - accuracy: 0.8166 - val_loss: 0.5111 - val_accuracy: 0.8355\n",
            "Epoch 38/400\n",
            "391/391 [==============================] - 19s 47ms/step - loss: 0.5670 - accuracy: 0.8160 - val_loss: 0.5044 - val_accuracy: 0.8372\n",
            "Epoch 39/400\n",
            "391/391 [==============================] - 18s 47ms/step - loss: 0.5554 - accuracy: 0.8200 - val_loss: 0.5171 - val_accuracy: 0.8325\n",
            "Epoch 40/400\n",
            "391/391 [==============================] - 18s 47ms/step - loss: 0.5510 - accuracy: 0.8159 - val_loss: 0.5022 - val_accuracy: 0.8370\n",
            "Epoch 41/400\n",
            "391/391 [==============================] - 18s 46ms/step - loss: 0.5557 - accuracy: 0.8164 - val_loss: 0.5957 - val_accuracy: 0.8159\n",
            "Epoch 42/400\n",
            "391/391 [==============================] - 18s 47ms/step - loss: 0.5546 - accuracy: 0.8171 - val_loss: 0.4562 - val_accuracy: 0.8515\n",
            "Epoch 43/400\n",
            "391/391 [==============================] - 19s 48ms/step - loss: 0.5441 - accuracy: 0.8204 - val_loss: 0.5017 - val_accuracy: 0.8411\n",
            "Epoch 44/400\n",
            "391/391 [==============================] - 19s 50ms/step - loss: 0.5433 - accuracy: 0.8220 - val_loss: 0.4973 - val_accuracy: 0.8442\n",
            "Epoch 45/400\n",
            "391/391 [==============================] - 19s 49ms/step - loss: 0.5340 - accuracy: 0.8239 - val_loss: 0.5222 - val_accuracy: 0.8339\n",
            "Epoch 46/400\n",
            "391/391 [==============================] - 19s 48ms/step - loss: 0.5291 - accuracy: 0.8270 - val_loss: 0.4308 - val_accuracy: 0.8559\n",
            "Epoch 47/400\n",
            "391/391 [==============================] - 49s 126ms/step - loss: 0.5280 - accuracy: 0.8262 - val_loss: 0.5063 - val_accuracy: 0.8431\n",
            "Epoch 48/400\n",
            "391/391 [==============================] - 51s 131ms/step - loss: 0.5253 - accuracy: 0.8269 - val_loss: 0.4914 - val_accuracy: 0.8429\n",
            "Epoch 49/400\n",
            "391/391 [==============================] - 52s 132ms/step - loss: 0.5179 - accuracy: 0.8304 - val_loss: 0.4925 - val_accuracy: 0.8445\n",
            "Epoch 50/400\n",
            "391/391 [==============================] - 51s 130ms/step - loss: 0.5333 - accuracy: 0.8308 - val_loss: 0.4946 - val_accuracy: 0.8420\n",
            "Epoch 51/400\n",
            "391/391 [==============================] - 51s 131ms/step - loss: 0.5161 - accuracy: 0.8302 - val_loss: 0.6138 - val_accuracy: 0.8195\n",
            "Epoch 52/400\n",
            "391/391 [==============================] - 51s 131ms/step - loss: 0.5104 - accuracy: 0.8308 - val_loss: 0.5914 - val_accuracy: 0.8180\n",
            "Epoch 53/400\n",
            "391/391 [==============================] - 51s 131ms/step - loss: 0.5080 - accuracy: 0.8317 - val_loss: 0.5832 - val_accuracy: 0.8198\n",
            "Epoch 54/400\n",
            "391/391 [==============================] - 52s 133ms/step - loss: 0.5110 - accuracy: 0.8332 - val_loss: 0.4942 - val_accuracy: 0.8445\n",
            "Epoch 55/400\n",
            "391/391 [==============================] - 52s 132ms/step - loss: 0.5108 - accuracy: 0.8335 - val_loss: 0.5393 - val_accuracy: 0.8316\n",
            "Epoch 56/400\n",
            "391/391 [==============================] - 51s 131ms/step - loss: 0.5031 - accuracy: 0.8332 - val_loss: 0.4707 - val_accuracy: 0.8456\n",
            "Epoch 57/400\n",
            "391/391 [==============================] - 52s 133ms/step - loss: 0.4950 - accuracy: 0.8358 - val_loss: 0.5664 - val_accuracy: 0.8226\n",
            "Epoch 58/400\n",
            "391/391 [==============================] - 52s 134ms/step - loss: 0.4988 - accuracy: 0.8348 - val_loss: 0.4891 - val_accuracy: 0.8473\n",
            "Epoch 59/400\n",
            "391/391 [==============================] - 52s 134ms/step - loss: 0.4939 - accuracy: 0.8403 - val_loss: 0.4587 - val_accuracy: 0.8555\n",
            "Epoch 60/400\n",
            "391/391 [==============================] - 52s 134ms/step - loss: 0.4908 - accuracy: 0.8369 - val_loss: 0.4982 - val_accuracy: 0.8414\n",
            "Epoch 61/400\n",
            "391/391 [==============================] - 53s 134ms/step - loss: 0.4817 - accuracy: 0.8430 - val_loss: 0.4254 - val_accuracy: 0.8581\n",
            "Epoch 62/400\n",
            "391/391 [==============================] - 53s 135ms/step - loss: 0.4879 - accuracy: 0.8390 - val_loss: 0.4774 - val_accuracy: 0.8501\n",
            "Epoch 63/400\n",
            "391/391 [==============================] - 53s 135ms/step - loss: 0.4831 - accuracy: 0.8422 - val_loss: 0.4143 - val_accuracy: 0.8640\n",
            "Epoch 64/400\n",
            "391/391 [==============================] - 53s 135ms/step - loss: 0.4807 - accuracy: 0.8440 - val_loss: 0.4869 - val_accuracy: 0.8405\n",
            "Epoch 65/400\n",
            "391/391 [==============================] - 52s 134ms/step - loss: 0.4871 - accuracy: 0.8395 - val_loss: 0.4354 - val_accuracy: 0.8623\n",
            "Epoch 66/400\n",
            "391/391 [==============================] - 53s 134ms/step - loss: 0.4769 - accuracy: 0.8420 - val_loss: 0.4844 - val_accuracy: 0.8429\n",
            "Epoch 67/400\n",
            "391/391 [==============================] - 52s 134ms/step - loss: 0.4852 - accuracy: 0.8402 - val_loss: 0.4123 - val_accuracy: 0.8662\n",
            "Epoch 68/400\n",
            "391/391 [==============================] - 52s 133ms/step - loss: 0.4694 - accuracy: 0.8452 - val_loss: 0.4860 - val_accuracy: 0.8474\n",
            "Epoch 69/400\n",
            "391/391 [==============================] - 52s 133ms/step - loss: 0.4738 - accuracy: 0.8449 - val_loss: 0.4882 - val_accuracy: 0.8516\n",
            "Epoch 70/400\n",
            "391/391 [==============================] - 53s 134ms/step - loss: 0.4708 - accuracy: 0.8468 - val_loss: 0.4599 - val_accuracy: 0.8560\n",
            "Epoch 71/400\n",
            "391/391 [==============================] - 52s 134ms/step - loss: 0.4672 - accuracy: 0.8460 - val_loss: 0.4455 - val_accuracy: 0.8618\n",
            "Epoch 72/400\n",
            "391/391 [==============================] - 52s 133ms/step - loss: 0.4584 - accuracy: 0.8477 - val_loss: 0.4731 - val_accuracy: 0.8528\n",
            "Epoch 73/400\n",
            "391/391 [==============================] - 52s 133ms/step - loss: 0.4560 - accuracy: 0.8504 - val_loss: 0.4506 - val_accuracy: 0.8615\n",
            "Epoch 74/400\n",
            "391/391 [==============================] - 53s 135ms/step - loss: 0.4602 - accuracy: 0.8486 - val_loss: 0.4453 - val_accuracy: 0.8617\n",
            "Epoch 75/400\n",
            "391/391 [==============================] - 52s 134ms/step - loss: 0.4641 - accuracy: 0.8454 - val_loss: 0.4187 - val_accuracy: 0.8622\n",
            "Epoch 76/400\n",
            "391/391 [==============================] - 53s 135ms/step - loss: 0.4525 - accuracy: 0.8489 - val_loss: 0.4152 - val_accuracy: 0.8641\n",
            "Epoch 77/400\n",
            "391/391 [==============================] - 53s 135ms/step - loss: 0.4584 - accuracy: 0.8476 - val_loss: 0.4162 - val_accuracy: 0.8659\n",
            "Epoch 78/400\n",
            "391/391 [==============================] - 53s 136ms/step - loss: 0.4542 - accuracy: 0.8508 - val_loss: 0.5345 - val_accuracy: 0.8404\n",
            "Epoch 79/400\n",
            "391/391 [==============================] - 53s 135ms/step - loss: 0.4535 - accuracy: 0.8522 - val_loss: 0.4617 - val_accuracy: 0.8549\n",
            "Epoch 80/400\n",
            "391/391 [==============================] - 53s 135ms/step - loss: 0.4490 - accuracy: 0.8522 - val_loss: 0.5017 - val_accuracy: 0.8477\n",
            "Epoch 81/400\n",
            "391/391 [==============================] - 53s 135ms/step - loss: 0.4570 - accuracy: 0.8496 - val_loss: 0.5342 - val_accuracy: 0.8428\n",
            "Epoch 82/400\n",
            "391/391 [==============================] - 53s 134ms/step - loss: 0.4534 - accuracy: 0.8514 - val_loss: 0.4171 - val_accuracy: 0.8678\n",
            "Epoch 83/400\n",
            "391/391 [==============================] - 52s 134ms/step - loss: 0.4516 - accuracy: 0.8516 - val_loss: 0.4191 - val_accuracy: 0.8668\n",
            "Epoch 84/400\n",
            "391/391 [==============================] - 52s 133ms/step - loss: 0.4494 - accuracy: 0.8530 - val_loss: 0.4161 - val_accuracy: 0.8690\n",
            "Epoch 85/400\n",
            "391/391 [==============================] - 52s 134ms/step - loss: 0.4471 - accuracy: 0.8527 - val_loss: 0.5347 - val_accuracy: 0.8347\n",
            "Epoch 86/400\n",
            "391/391 [==============================] - 53s 134ms/step - loss: 0.4486 - accuracy: 0.8523 - val_loss: 0.4239 - val_accuracy: 0.8667\n",
            "Epoch 87/400\n",
            "391/391 [==============================] - 52s 134ms/step - loss: 0.4542 - accuracy: 0.8530 - val_loss: 0.4448 - val_accuracy: 0.8615\n"
          ]
        }
      ]
    },
    {
      "cell_type": "code",
      "metadata": {
        "id": "NeJwx777swlw",
        "colab": {
          "base_uri": "https://localhost:8080/"
        },
        "outputId": "376f886e-c83c-4b23-975b-ade8b317a5de"
      },
      "source": [
        "loss, acc = model.evaluate(test_x, test_y, verbose = 2)\n",
        "print(acc)"
      ],
      "execution_count": 6,
      "outputs": [
        {
          "output_type": "stream",
          "name": "stdout",
          "text": [
            "313/313 - 4s - loss: 0.4123 - accuracy: 0.8662\n",
            "0.8661999702453613\n"
          ]
        }
      ]
    },
    {
      "cell_type": "markdown",
      "metadata": {
        "id": "uJHvWzEgswlx"
      },
      "source": [
        "# Used websites"
      ]
    },
    {
      "cell_type": "markdown",
      "metadata": {
        "id": "x-1NEgSCswlx"
      },
      "source": [
        "https://www.tensorflow.org/tutorials/images/cnn\n",
        "https://www.tensorflow.org/addons/tutorials/layers_normalizations\n",
        "https://machinelearningmastery.com/pooling-layers-for-convolutional-neural-networks/\n",
        "https://machinelearningmastery.com/adam-optimization-algorithm-for-deep-learning/\n",
        "https://www.tensorflow.org/api_docs/python/tf/keras/Model\n",
        "\n",
        "\n",
        "\n",
        "(source for data augmentation)\n",
        "\n",
        "https://machinelearningmastery.com/how-to-develop-a-cnn-from-scratch-for-cifar-10-photo-classification/  \n"
      ]
    }
  ]
}