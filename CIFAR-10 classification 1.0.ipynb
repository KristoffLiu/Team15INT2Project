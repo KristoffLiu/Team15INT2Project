{
 "cells": [
  {
   "cell_type": "markdown",
   "metadata": {},
   "source": [
    "# Downloading and preparing the data"
   ]
  },
  {
   "cell_type": "code",
   "execution_count": 3,
   "metadata": {},
   "outputs": [],
   "source": [
    "import tensorflow as tf\n",
    "\n",
    "from tensorflow.keras import datasets, layers, models\n",
    "import matplotlib.pyplot as plt"
   ]
  },
  {
   "cell_type": "code",
   "execution_count": 5,
   "metadata": {},
   "outputs": [],
   "source": [
    "(train_x, train_y), (test_x, test_y) = datasets.cifar10.load_data()"
   ]
  },
  {
   "cell_type": "code",
   "execution_count": 6,
   "metadata": {},
   "outputs": [],
   "source": [
    "train_x, test_x = train_x / 255.0, test_x / 255.0 #changes pixel values between 0 and 1"
   ]
  },
  {
   "cell_type": "markdown",
   "metadata": {},
   "source": [
    "# Creating a basic model with 3 layers"
   ]
  },
  {
   "cell_type": "code",
   "execution_count": 9,
   "metadata": {},
   "outputs": [],
   "source": [
    "model = models.Sequential()\n",
    "model.add(layers.Conv2D(32, (3,3), activation='relu', input_shape=(32,32,3))) #creates layers for a 2d array of pixels\n",
    "model.add(layers.MaxPooling2D((2,2))) #pooling helps detect features in an image, max pooling finds largest value\n",
    "model.add(layers.Conv2D(64,(3,3), activation='relu'))\n",
    "model.add(layers.MaxPooling2D((2,2)))\n",
    "model.add(layers.Conv2D(64,(3,3), activation='relu'))\n",
    "#model.summary()"
   ]
  },
  {
   "cell_type": "code",
   "execution_count": 10,
   "metadata": {},
   "outputs": [],
   "source": [
    "model.add(layers.Flatten()) #reduces input by one dim\n",
    "model.add(layers.Dense(64, activation = 'relu')) #regularisation of data\n",
    "model.add(layers.Dense(10))\n",
    "#model.summary()"
   ]
  },
  {
   "cell_type": "markdown",
   "metadata": {},
   "source": [
    "# Running, training, and evaluating data"
   ]
  },
  {
   "cell_type": "code",
   "execution_count": 13,
   "metadata": {},
   "outputs": [
    {
     "name": "stdout",
     "output_type": "stream",
     "text": [
      "Epoch 1/10\n",
      "1563/1563 [==============================] - 22s 14ms/step - loss: 1.7540 - accuracy: 0.3483 - val_loss: 1.3014 - val_accuracy: 0.5400\n",
      "Epoch 2/10\n",
      "1563/1563 [==============================] - 24s 15ms/step - loss: 1.1733 - accuracy: 0.5855 - val_loss: 1.0742 - val_accuracy: 0.6137\n",
      "Epoch 3/10\n",
      "1563/1563 [==============================] - 25s 16ms/step - loss: 1.0029 - accuracy: 0.6446 - val_loss: 0.9818 - val_accuracy: 0.6554\n",
      "Epoch 4/10\n",
      "1563/1563 [==============================] - 25s 16ms/step - loss: 0.8874 - accuracy: 0.6870 - val_loss: 0.9564 - val_accuracy: 0.6627\n",
      "Epoch 5/10\n",
      "1563/1563 [==============================] - 26s 17ms/step - loss: 0.8211 - accuracy: 0.7112 - val_loss: 0.8934 - val_accuracy: 0.6967\n",
      "Epoch 6/10\n",
      "1563/1563 [==============================] - 26s 16ms/step - loss: 0.7592 - accuracy: 0.7345 - val_loss: 0.8247 - val_accuracy: 0.7190\n",
      "Epoch 7/10\n",
      "1563/1563 [==============================] - 25s 16ms/step - loss: 0.6973 - accuracy: 0.7555 - val_loss: 0.8545 - val_accuracy: 0.7142\n",
      "Epoch 8/10\n",
      "1563/1563 [==============================] - 27s 17ms/step - loss: 0.6612 - accuracy: 0.7680 - val_loss: 0.8336 - val_accuracy: 0.7177\n",
      "Epoch 9/10\n",
      "1563/1563 [==============================] - 26s 17ms/step - loss: 0.6137 - accuracy: 0.7861 - val_loss: 0.8137 - val_accuracy: 0.7303\n",
      "Epoch 10/10\n",
      "1563/1563 [==============================] - 27s 17ms/step - loss: 0.5779 - accuracy: 0.7980 - val_loss: 0.8511 - val_accuracy: 0.7186\n"
     ]
    }
   ],
   "source": [
    "model.compile(optimizer='adam',loss=tf.keras.losses.SparseCategoricalCrossentropy(from_logits=True),metrics=['accuracy'])\n",
    "#adam optimisatin is a slightly better gradient decent for computer vision\n",
    "progress = model.fit(train_x, train_y, epochs=10,validation_data=(test_x, test_y))"
   ]
  },
  {
   "cell_type": "code",
   "execution_count": 17,
   "metadata": {},
   "outputs": [
    {
     "name": "stdout",
     "output_type": "stream",
     "text": [
      "313/313 - 1s - loss: 0.8511 - accuracy: 0.7186\n",
      "0.7185999751091003\n"
     ]
    }
   ],
   "source": [
    "loss, acc = model.evaluate(test_x, test_y, verbose = 2)\n",
    "print(acc)"
   ]
  },
  {
   "cell_type": "markdown",
   "metadata": {},
   "source": [
    "# Used websites"
   ]
  },
  {
   "cell_type": "markdown",
   "metadata": {},
   "source": [
    "https://www.tensorflow.org/tutorials/images/cnn\n",
    "https://www.tensorflow.org/addons/tutorials/layers_normalizations\n",
    "https://machinelearningmastery.com/pooling-layers-for-convolutional-neural-networks/\n",
    "https://machinelearningmastery.com/adam-optimization-algorithm-for-deep-learning/\n",
    "https://www.tensorflow.org/api_docs/python/tf/keras/Model"
   ]
  }
 ],
 "metadata": {
  "kernelspec": {
   "display_name": "Python 3",
   "language": "python",
   "name": "python3"
  },
  "language_info": {
   "codemirror_mode": {
    "name": "ipython",
    "version": 3
   },
   "file_extension": ".py",
   "mimetype": "text/x-python",
   "name": "python",
   "nbconvert_exporter": "python",
   "pygments_lexer": "ipython3",
   "version": "3.8.5"
  }
 },
 "nbformat": 4,
 "nbformat_minor": 4
}
